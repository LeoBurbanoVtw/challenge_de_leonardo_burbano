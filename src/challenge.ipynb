{
 "cells": [
  {
   "cell_type": "markdown",
   "metadata": {},
   "source": [
    "En este archivo puedes escribir lo que estimes conveniente. Te recomendamos detallar tu solución y todas las suposiciones que estás considerando. Aquí puedes ejecutar las funciones que definiste en los otros archivos de la carpeta src, medir el tiempo, memoria, etc."
   ]
  },
  {
   "cell_type": "code",
   "execution_count": 2,
   "metadata": {},
   "outputs": [],
   "source": [
    "file_path = \"farmers-protest-tweets-2021-2-4.json\""
   ]
  },
  {
   "cell_type": "markdown",
   "metadata": {},
   "source": [
    "**Autor:** Leonardo Burbano\n",
    "<br/>\n",
    "**Empresa:** TW\n",
    "<br/>\n",
    "**Email:** leonardo.burbano@[dominioTW]\n",
    "<br/>\n",
    "**Mes/Año:** 05/2023"
   ]
  },
  {
   "cell_type": "markdown",
   "metadata": {},
   "source": [
    "#### 1. Suposiciones\n",
    "\n",
    "- La descarga/carga del archivo de input no se realizará de forma recurrente. Se realizará una sola vez para efectos de solucionar el presente desafío.\n",
    "- La ejecución de la descarga/descompresión/carga del archivo se realizará bajo demanda (y manualmente de ser el caso). Se considerará como variable el nombre del archivo, y como ubicación fija un bucket (repositorio) en Cloud Storage (GCP - Google Cloud Platform).\n",
    "- La prioridad es obtener la respuesta a las preguntas planteadas. No surgirán otras preguntas en el corto plazo.\n",
    "- Al final de este documento se detallan las recomendaciones para garantizar la escalabilidad del proceso y también la calendarización del mismo de ser necesario.\n",
    "- La respuesta proviene de una consulta a la API de Twitter que está almacenada en un archivo comprimido en Google Drive.\n",
    "- El desarrollo no incluye versionamiento de la infraestructura creada o utilización de infraestructura como código.\n",
    "- No se incluyen configuraciones de permisos y otras tareas de disposición de la infraestructura en GCP.\n",
    "\n",
    "#### 2. Configuración del ambiente\n",
    "- Se utilizó Git y Gitflow para Mac, para facilitar el versionamiento y simulación de trabajo colaborativo.\n",
    "- Se realizó una exploración inicial en la que se fue\n",
    "- Se utilizará la nube de GCP, se requieré únicamente un archivo de cuenta de servicio con los permisos adecuados para ejecutar el proyecto.\n",
    "\n",
    "\n",
    "#### 2. Estrategia y features a implementar\n",
    "\n",
    "##### 2.1. **feature/initial_exploration:** \n",
    "Se comienza tratando de llegar a la respuesta a las preguntas lo más rápido posible utilizando un Notebook de exploración y las configuraciones manuales en GCP (ejemplo: Cargar un archivo a Cloud Storage, cargar el archivo a BigQuery). Este tipo de pruebas dieron mayor visibilidad del esquema del archivo y los posibles desafíos a enfrentar. El detalle se encuentra en ../_initial_exploration/00_test.ipynb . A partir de esa exploración se realizó esta estrategia y varias de las decisiones tomadas a continuación.\n",
    "\n",
    "##### 2.2 **feature/environment_setup:** \n",
    "Se realiza la configuración del ambiente en GCP creando una \"Service Account\" en la sección de \"IAM\" con los permisos necesarios para cargar datos en BigQuery, Cloud Storage y otros servicios utilizados en esta solución. Adicionalmente, para el ambiente local, se considera diferentes configuraciones utilizando Git, Github, Gitflow y Visual Studio Code. Como requisitos generales, se utiliza: Python 3.9.6 en una MacBook Pro (M1 Pro, 16 Gb RAM, Sonoma).\n",
    "\n",
    "##### 2.3. **feature/bigquery_connector:** \n",
    "Considerando la carga manual realizada y el desarrollo realizado en el punto 2.1. se inicia desarrollando un conector a BigQuery que permita ejecutar las consultas ya desarrolladas en la exploración inicial.\n"
   ]
  },
  {
   "cell_type": "markdown",
   "metadata": {},
   "source": [
    "#### 3. Descarga del archivo, descompresión y cargar en Cloud Storage\n"
   ]
  },
  {
   "cell_type": "markdown",
   "metadata": {},
   "source": [
    "#### 4. Testing básico de las funciones"
   ]
  },
  {
   "cell_type": "code",
   "execution_count": 3,
   "metadata": {},
   "outputs": [
    {
     "name": "stdout",
     "output_type": "stream",
     "text": [
      "Hola\n",
      "None\n",
      "None\n",
      "None\n",
      "None\n",
      "None\n",
      "None\n"
     ]
    }
   ],
   "source": [
    "from q1_memory import q1_memory\n",
    "from q1_time import q1_time\n",
    "from q2_memory import q2_memory\n",
    "from q2_time import q2_time\n",
    "from q3_memory import q3_memory\n",
    "from q3_time import q3_time\n",
    "\n",
    "print(q1_memory(file_path))\n",
    "print(q1_time(file_path))\n",
    "print(q2_memory(file_path))\n",
    "print(q2_time(file_path))\n",
    "print(q3_memory(file_path))\n",
    "print(q3_time(file_path))"
   ]
  },
  {
   "cell_type": "code",
   "execution_count": null,
   "metadata": {},
   "outputs": [],
   "source": []
  }
 ],
 "metadata": {
  "kernelspec": {
   "display_name": "Python 3",
   "language": "python",
   "name": "python3"
  },
  "language_info": {
   "codemirror_mode": {
    "name": "ipython",
    "version": 3
   },
   "file_extension": ".py",
   "mimetype": "text/x-python",
   "name": "python",
   "nbconvert_exporter": "python",
   "pygments_lexer": "ipython3",
   "version": "3.9.6"
  },
  "orig_nbformat": 4
 },
 "nbformat": 4,
 "nbformat_minor": 2
}
