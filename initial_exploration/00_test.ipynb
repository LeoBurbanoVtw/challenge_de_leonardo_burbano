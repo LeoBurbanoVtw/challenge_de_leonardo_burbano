{
 "cells": [
  {
   "cell_type": "markdown",
   "metadata": {},
   "source": [
    "#### 0. Manually download the file and insert into a Cloud Storage bucket"
   ]
  },
  {
   "cell_type": "markdown",
   "metadata": {},
   "source": [
    "Results: The test was successful."
   ]
  },
  {
   "cell_type": "markdown",
   "metadata": {},
   "source": [
    "#### 1. Try to insert directly the file into BigQuery as a table"
   ]
  },
  {
   "cell_type": "markdown",
   "metadata": {},
   "source": [
    "Results: I used the \"infer schema\" configuration, it was not successfull, maybe I have to use in python"
   ]
  },
  {
   "cell_type": "markdown",
   "metadata": {},
   "source": [
    "#### 2. Define only the schema of the columns to be used in BigQuery (Manually)\n",
    "I used a scrypt like this:\n",
    "\n",
    "```\n",
    "import json\n",
    "\n",
    "data = []\n",
    "\n",
    "# Reading data from the input file\n",
    "input_file = 'farmers-protest-tweets-2021-2-4.json'\n",
    "output_file = 'processed_tweets.jsonl'\n",
    "\n",
    "with open(input_file, 'r') as f:\n",
    "    for line in f:\n",
    "        obj = json.loads(line)\n",
    "        id = obj[\"id\"]\n",
    "        username = obj[\"user\"][\"username\"]\n",
    "        userid = obj[\"user\"][\"id\"]\n",
    "        date = obj[\"date\"]\n",
    "        content = obj[\"content\"]\n",
    "\n",
    "        list_mentioned_users = []\n",
    "\n",
    "        if obj[\"mentionedUsers\"] !=None:\n",
    "            for j in obj[\"mentionedUsers\"]:\n",
    "                i = j\n",
    "                mentioned_user = {\n",
    "                    \"username\": i[\"username\"],\n",
    "                    \"userid\": i[\"id\"]\n",
    "                }\n",
    "                list_mentioned_users.append(mentioned_user)\n",
    "        else:\n",
    "            pass\n",
    "        data.append({\"id\": id, \"username\": username, \"userid\": userid, \"date\": date, \"content\": content, \"mentionedUsers\": list_mentioned_users})\n",
    "\n",
    "filtered_data = [tweet for tweet in data]\n",
    "\n",
    "# Writing the processed data to a new JSONL file\n",
    "with open(output_file, 'w') as outfile:\n",
    "    for tweet in filtered_data:\n",
    "        json.dump(tweet, outfile)\n",
    "        outfile.write('\\n')  # Add a newline character to separate each tweet\n",
    "\n",
    "# Optionally, you can print a message once the writing is complete\n",
    "print(f\"Processed data has been written to '{output_file}'\")\n",
    "```"
   ]
  },
  {
   "cell_type": "markdown",
   "metadata": {},
   "source": []
  },
  {
   "cell_type": "markdown",
   "metadata": {},
   "source": [
    "The result was successfull."
   ]
  },
  {
   "cell_type": "markdown",
   "metadata": {},
   "source": [
    "#### 3. Create the queries in BigQuery\n",
    "The test was sucessfull\n",
    "\n",
    "I create the queries needed to retrieve the results"
   ]
  },
  {
   "cell_type": "code",
   "execution_count": null,
   "metadata": {
    "vscode": {
     "languageId": "sql"
    }
   },
   "outputs": [
    {
     "ename": "",
     "evalue": "",
     "output_type": "error",
     "traceback": [
      "\u001b[1;31mRunning cells with 'Python 3.9.6' requires the ipykernel package.\n",
      "\u001b[1;31mRun the following command to install 'ipykernel' into the Python environment. \n",
      "\u001b[1;31mCommand: '/usr/bin/python3 -m pip install ipykernel -U --user --force-reinstall'"
     ]
    }
   ],
   "source": [
    "# Question1\n",
    "with highdates as (\n",
    "SELECT date(`date`) `date`, count(1)\n",
    "FROM `de-leonardo-burbano.DE_BIGQUERY_LB.test0006`\n",
    "group by date(`date`)\n",
    "order by 2 desc\n",
    "limit 10)\n",
    ", users as (\n",
    "select b.username, date(b.`date`) as date_agg, COUNT(1) as num_tweets\n",
    "from `de-leonardo-burbano.DE_BIGQUERY_LB.test0006` as b\n",
    "inner join highdates on highdates.`date` = date(B.`date`)\n",
    "group by b.username, date(b.`date`)\n",
    ")\n",
    ", c as (\n",
    "select username, date_agg, row_number() over(partition by date_agg order by num_tweets desc) as num\n",
    "from users)\n",
    "select *\n",
    "from c\n",
    "where num = 1"
   ]
  },
  {
   "cell_type": "code",
   "execution_count": null,
   "metadata": {
    "vscode": {
     "languageId": "sql"
    }
   },
   "outputs": [],
   "source": [
    "#Question2\n",
    "WITH A AS (\n",
    "  select REGEXP_EXTRACT_ALL(content, r\"(?:[\\x{1F300}-\\x{1F5FF}]|[\\x{1F900}-\\x{1F9FF}]|[\\x{1F600}-\\x{1F64F}]|[\\x{1F680}-\\x{1F6FF}]|[\\x{2600}-\\x{26FF}]\\x{FE0F}?|[\\x{2700}-\\x{27BF}]\\x{FE0F}?|\\x{24C2}\\x{FE0F}?|[\\x{1F1E6}-\\x{1F1FF}]{1,2}|[\\x{1F170}\\x{1F171}\\x{1F17E}\\x{1F17F}\\x{1F18E}\\x{1F191}-\\x{1F19A}]\\x{FE0F}?|[\\\\x{0023}\\x{002A}\\x{0030}-\\x{0039}]\\x{FE0F}?\\x{20E3}|[\\x{2194}-\\x{2199}\\x{21A9}-\\x{21AA}]\\x{FE0F}?|[\\x{2B05}-\\x{2B07}\\x{2B1B}\\x{2B1C}\\x{2B50}\\x{2B55}]\\x{FE0F}?|[\\x{2934}\\x{2935}]\\x{FE0F}?|[\\x{3297}\\x{3299}]\\x{FE0F}?|[\\x{1F201}\\x{1F202}\\x{1F21A}\\x{1F22F}\\x{1F232}\\x{1F23A}\\x{1F250}\\x{1F251}]\\x{FE0F}?|[\\x{203C}-\\x{2049}]\\x{FE0F}?|[\\x{00A9}-\\x{00AE}]\\x{FE0F}?|[\\x{2122}\\x{2139}]\\x{FE0F}?|\\x{1F004}\\x{FE0F}?|\\x{1F0CF}\\x{FE0F}?|[\\x{231A}\\x{231B}\\x{2328}\\x{23CF}\\x{23E9}\\x{23F3}\\x{23F8}\\x{23FA}]\\x{FE0F}?)\") AS emoji\n",
    "  from `de-leonardo-burbano.DE_BIGQUERY_LB.test0006`\n",
    "  WHERE ARRAY_LENGTH(REGEXP_EXTRACT_ALL(content, r\"(?:[\\x{1F300}-\\x{1F5FF}]|[\\x{1F900}-\\x{1F9FF}]|[\\x{1F600}-\\x{1F64F}]|[\\x{1F680}-\\x{1F6FF}]|[\\x{2600}-\\x{26FF}]\\x{FE0F}?|[\\x{2700}-\\x{27BF}]\\x{FE0F}?|\\x{24C2}\\x{FE0F}?|[\\x{1F1E6}-\\x{1F1FF}]{1,2}|[\\x{1F170}\\x{1F171}\\x{1F17E}\\x{1F17F}\\x{1F18E}\\x{1F191}-\\x{1F19A}]\\x{FE0F}?|[\\\\x{0023}\\x{002A}\\x{0030}-\\x{0039}]\\x{FE0F}?\\x{20E3}|[\\x{2194}-\\x{2199}\\x{21A9}-\\x{21AA}]\\x{FE0F}?|[\\x{2B05}-\\x{2B07}\\x{2B1B}\\x{2B1C}\\x{2B50}\\x{2B55}]\\x{FE0F}?|[\\x{2934}\\x{2935}]\\x{FE0F}?|[\\x{3297}\\x{3299}]\\x{FE0F}?|[\\x{1F201}\\x{1F202}\\x{1F21A}\\x{1F22F}\\x{1F232}\\x{1F23A}\\x{1F250}\\x{1F251}]\\x{FE0F}?|[\\x{203C}-\\x{2049}]\\x{FE0F}?|[\\x{00A9}-\\x{00AE}]\\x{FE0F}?|[\\x{2122}\\x{2139}]\\x{FE0F}?|\\x{1F004}\\x{FE0F}?|\\x{1F0CF}\\x{FE0F}?|[\\x{231A}\\x{231B}\\x{2328}\\x{23CF}\\x{23E9}\\x{23F3}\\x{23F8}\\x{23FA}]\\x{FE0F}?)\"))>0\n",
    ")\n",
    "select element, count(1) as frecuency\n",
    "FROM A, UNNEST(emoji) AS element\n",
    "GROUP BY element\n",
    "order by 2 desc\n",
    "limit 10"
   ]
  },
  {
   "cell_type": "code",
   "execution_count": null,
   "metadata": {
    "vscode": {
     "languageId": "sql"
    }
   },
   "outputs": [],
   "source": [
    "#Question3\n",
    "with a as (\n",
    "  SELECT mentioned.username mentioned_username, mentioned.userid mentioned_userid, A.id, A.username\n",
    "  FROM  `de-leonardo-burbano.DE_BIGQUERY_LB.test0006` AS A, UNNEST(A.mentionedUsers) as mentioned\n",
    "  WHERE mentioned.username is not null\n",
    ")\n",
    "select mentioned_username, count(1)\n",
    "from a\n",
    "where a.mentioned_username != username\n",
    "group by 1\n",
    "order by 2 desc\n",
    "limit 10"
   ]
  },
  {
   "cell_type": "markdown",
   "metadata": {},
   "source": [
    "#### Next steps\n",
    "1. Configure the repo: requirements + gitignore\n",
    "2. Define a strategy in the main Notebook"
   ]
  }
 ],
 "metadata": {
  "kernelspec": {
   "display_name": "Python 3",
   "language": "python",
   "name": "python3"
  },
  "language_info": {
   "name": "python",
   "version": "3.9.6"
  }
 },
 "nbformat": 4,
 "nbformat_minor": 2
}
